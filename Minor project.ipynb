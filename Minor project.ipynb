{
 "cells": [
  {
   "cell_type": "code",
   "execution_count": 1,
   "metadata": {},
   "outputs": [
    {
     "name": "stderr",
     "output_type": "stream",
     "text": [
      "Using TensorFlow backend.\n"
     ]
    }
   ],
   "source": [
    "from pathlib import Path\n",
    "import pandas as pd\n",
    "import numpy as np\n",
    "\n",
    "%matplotlib inline\n",
    "import matplotlib.pyplot as plt\n",
    "import warnings\n",
    "warnings.simplefilter(action = 'ignore', category = FutureWarning)\n",
    "from sklearn.preprocessing import MinMaxScaler\n",
    "\n",
    "from keras.preprocessing.sequence import TimeseriesGenerator\n",
    "from keras.models import Sequential\n",
    "from keras.layers import Dense, LSTM, SimpleRNN\n",
    "from keras.optimizers import RMSprop\n",
    "from keras.callbacks import ModelCheckpoint, EarlyStopping\n",
    "from keras.models import model_from_json"
   ]
  },
  {
   "cell_type": "code",
   "execution_count": 2,
   "metadata": {},
   "outputs": [
    {
     "name": "stdout",
     "output_type": "stream",
     "text": [
      "aggregated timeseries shape:(53647, 18)\n",
      "metadata shape:(1289, 26)\n"
     ]
    }
   ],
   "source": [
    "date_vars = ['DatetimeBegin','DatetimeEnd']\n",
    "\n",
    "agg_ts = pd.read_csv('BE_1_2013-2015_aggregated_timeseries.csv', sep='\\t', parse_dates=date_vars, date_parser=pd.to_datetime)\n",
    "meta = pd.read_csv('BE_2013-2015_metadata.csv', sep='\\t')\n",
    "\n",
    "print('aggregated timeseries shape:{}'.format(agg_ts.shape))\n",
    "print('metadata shape:{}'.format(meta.shape))"
   ]
  },
  {
   "cell_type": "code",
   "execution_count": 3,
   "metadata": {},
   "outputs": [],
   "source": [
    "# plt.figure(figsize=(20,6))\n",
    "# plt.plot(agg_ts.groupby('DatetimeBegin').count(), 'o', color='skyblue')\n",
    "# plt.title('Nb of measurements per DatetimeBegin')\n",
    "# plt.ylabel('number of measurements')\n",
    "# plt.xlabel('DatetimeBegin')\n",
    "# plt.show()"
   ]
  },
  {
   "cell_type": "code",
   "execution_count": 4,
   "metadata": {},
   "outputs": [],
   "source": [
    "# ser_avail_days = agg_ts.groupby('SamplingPoint').nunique()['DatetimeBegin']\n",
    "# plt.figure(figsize=(8,4))\n",
    "# plt.hist(ser_avail_days.sort_values(ascending=False))\n",
    "# plt.ylabel('Nb SamplingPoints')\n",
    "# plt.xlabel('Nb of Unique DatetimeBegin')\n",
    "# plt.title('Distribution of Samplingpoints by the Nb of available measurement days')\n",
    "# plt.show()"
   ]
  },
  {
   "cell_type": "code",
   "execution_count": 5,
   "metadata": {},
   "outputs": [
    {
     "ename": "NameError",
     "evalue": "name 'ser_avail_days' is not defined",
     "output_type": "error",
     "traceback": [
      "\u001b[1;31m---------------------------------------------------------------------------\u001b[0m",
      "\u001b[1;31mNameError\u001b[0m                                 Traceback (most recent call last)",
      "\u001b[1;32m<ipython-input-5-4149a11abd20>\u001b[0m in \u001b[0;36m<module>\u001b[1;34m()\u001b[0m\n\u001b[0;32m      1\u001b[0m \u001b[0mdf\u001b[0m \u001b[1;33m=\u001b[0m \u001b[0magg_ts\u001b[0m\u001b[1;33m.\u001b[0m\u001b[0mloc\u001b[0m\u001b[1;33m[\u001b[0m\u001b[0magg_ts\u001b[0m\u001b[1;33m.\u001b[0m\u001b[0mDataAggregationProcess\u001b[0m\u001b[1;33m==\u001b[0m\u001b[1;34m'P1D'\u001b[0m\u001b[1;33m,\u001b[0m \u001b[1;33m:\u001b[0m\u001b[1;33m]\u001b[0m\u001b[1;33m\u001b[0m\u001b[0m\n\u001b[0;32m      2\u001b[0m \u001b[0mdf\u001b[0m \u001b[1;33m=\u001b[0m \u001b[0mdf\u001b[0m\u001b[1;33m.\u001b[0m\u001b[0mloc\u001b[0m\u001b[1;33m[\u001b[0m\u001b[0mdf\u001b[0m\u001b[1;33m.\u001b[0m\u001b[0mUnitOfAirPollutionLevel\u001b[0m\u001b[1;33m!=\u001b[0m\u001b[1;34m'count'\u001b[0m\u001b[1;33m,\u001b[0m \u001b[1;33m:\u001b[0m\u001b[1;33m]\u001b[0m\u001b[1;33m\u001b[0m\u001b[0m\n\u001b[1;32m----> 3\u001b[1;33m \u001b[0mdf\u001b[0m \u001b[1;33m=\u001b[0m \u001b[0mdf\u001b[0m\u001b[1;33m.\u001b[0m\u001b[0mloc\u001b[0m\u001b[1;33m[\u001b[0m\u001b[0mdf\u001b[0m\u001b[1;33m.\u001b[0m\u001b[0mSamplingPoint\u001b[0m\u001b[1;33m.\u001b[0m\u001b[0misin\u001b[0m\u001b[1;33m(\u001b[0m\u001b[0mser_avail_days\u001b[0m\u001b[1;33m[\u001b[0m\u001b[0mser_avail_days\u001b[0m\u001b[1;33m.\u001b[0m\u001b[0mvalues\u001b[0m \u001b[1;33m>=\u001b[0m \u001b[1;36m1000\u001b[0m\u001b[1;33m]\u001b[0m\u001b[1;33m.\u001b[0m\u001b[0mindex\u001b[0m\u001b[1;33m)\u001b[0m\u001b[1;33m,\u001b[0m \u001b[1;33m:\u001b[0m\u001b[1;33m]\u001b[0m\u001b[1;33m\u001b[0m\u001b[0m\n\u001b[0m\u001b[0;32m      4\u001b[0m vars_to_drop = ['AirPollutant','AirPollutantCode','Countrycode','Namespace','TimeCoverage','Validity','Verification','AirQualityStation',\n\u001b[0;32m      5\u001b[0m                \u001b[1;34m'AirQualityStationEoICode'\u001b[0m\u001b[1;33m,\u001b[0m\u001b[1;34m'DataAggregationProcess'\u001b[0m\u001b[1;33m,\u001b[0m\u001b[1;34m'UnitOfAirPollutionLevel'\u001b[0m\u001b[1;33m,\u001b[0m \u001b[1;34m'DatetimeEnd'\u001b[0m\u001b[1;33m,\u001b[0m \u001b[1;34m'AirQualityNetwork'\u001b[0m\u001b[1;33m,\u001b[0m\u001b[1;33m\u001b[0m\u001b[0m\n",
      "\u001b[1;31mNameError\u001b[0m: name 'ser_avail_days' is not defined"
     ]
    }
   ],
   "source": [
    "df = agg_ts.loc[agg_ts.DataAggregationProcess=='P1D', :] \n",
    "df = df.loc[df.UnitOfAirPollutionLevel!='count', :]\n",
    "df = df.loc[df.SamplingPoint.isin(ser_avail_days[ser_avail_days.values >= 1000].index), :]\n",
    "vars_to_drop = ['AirPollutant','AirPollutantCode','Countrycode','Namespace','TimeCoverage','Validity','Verification','AirQualityStation',\n",
    "               'AirQualityStationEoICode','DataAggregationProcess','UnitOfAirPollutionLevel', 'DatetimeEnd', 'AirQualityNetwork',\n",
    "               'DataCapture', 'DataCoverage']\n",
    "df.drop(columns=vars_to_drop, axis='columns', inplace=True)"
   ]
  },
  {
   "cell_type": "code",
   "execution_count": null,
   "metadata": {},
   "outputs": [],
   "source": [
    "dates = list(pd.period_range(min(df.DatetimeBegin), max(df.DatetimeBegin), freq='D').values)\n",
    "samplingpoints = list(df.SamplingPoint.unique())\n",
    "\n",
    "new_idx = []\n",
    "for sp in samplingpoints:\n",
    "    for d in dates:\n",
    "        new_idx.append((sp, np.datetime64(d)))\n",
    "\n",
    "df.set_index(keys=['SamplingPoint', 'DatetimeBegin'], inplace=True)\n",
    "df.sort_index(inplace=True)\n",
    "df = df.reindex(new_idx)\n",
    "#print(df.loc['SPO-BETR223_00001_100','2013-01-29'])  # should contain NaN for the columns\n",
    "\n",
    "df['AirPollutionLevel'] = df.groupby(level=0).AirPollutionLevel.bfill().fillna(0)\n",
    "#print(df.loc['SPO-BETR223_00001_100','2013-01-29'])  # NaN are replaced by values of 2013-01-30\n",
    "print('{} missing values'.format(df.isnull().sum().sum()))"
   ]
  },
  {
   "cell_type": "code",
   "execution_count": null,
   "metadata": {},
   "outputs": [],
   "source": [
    "df = df.loc['SPO-BETR223_00001_100',:]"
   ]
  },
  {
   "cell_type": "code",
   "execution_count": null,
   "metadata": {},
   "outputs": [],
   "source": [
    "train = df.query('DatetimeBegin < \"2014-07-01\"')\n",
    "valid = df.query('DatetimeBegin >= \"2014-07-01\" and DatetimeBegin < \"2015-01-01\"')\n",
    "test = df.query('DatetimeBegin >= \"2015-01-01\"')"
   ]
  },
  {
   "cell_type": "code",
   "execution_count": null,
   "metadata": {},
   "outputs": [],
   "source": [
    "# Save column names and indices to use when storing as csv\n",
    "cols = train.columns\n",
    "train_idx = train.index\n",
    "valid_idx = valid.index\n",
    "test_idx = test.index\n",
    "\n",
    "# normalize the dataset\n",
    "scaler = MinMaxScaler(feature_range=(0, 1))\n",
    "train = scaler.fit_transform(train)\n",
    "valid = scaler.transform(valid)\n",
    "test = scaler.transform(test)"
   ]
  },
  {
   "cell_type": "code",
   "execution_count": null,
   "metadata": {},
   "outputs": [],
   "source": [
    "train = pd.DataFrame(train, columns=cols, index=train_idx)\n",
    "valid = pd.DataFrame(valid, columns=cols, index=valid_idx)\n",
    "test = pd.DataFrame(test, columns=cols, index=test_idx)\n",
    "\n",
    "train.to_csv('train.csv')\n",
    "valid.to_csv('valid.csv')\n",
    "test.to_csv('test.csv')"
   ]
  },
  {
   "cell_type": "code",
   "execution_count": 6,
   "metadata": {},
   "outputs": [],
   "source": [
    "train = pd.read_csv('train.csv', header=0, index_col=0).values.astype('float32')\n",
    "valid = pd.read_csv('valid.csv', header=0, index_col=0).values.astype('float32')\n",
    "test = pd.read_csv('test.csv', header=0, index_col=0).values.astype('float32')\n",
    "\n",
    "def plot_loss(history, title):\n",
    "    plt.figure(figsize=(10,6))\n",
    "    plt.plot(history.history['loss'], label='Train')\n",
    "    plt.plot(history.history['val_loss'], label='Validation')\n",
    "    plt.title(title)\n",
    "    plt.xlabel('Nb Epochs')\n",
    "    plt.ylabel('Loss')\n",
    "    plt.legend()\n",
    "    plt.show()\n",
    "    \n",
    "    val_loss = history.history['val_loss']\n",
    "    min_idx = np.argmin(val_loss)\n",
    "    min_val_loss = val_loss[min_idx]\n",
    "    print('Minimum validation loss of {} reached at epoch {}'.format(min_val_loss, min_idx))"
   ]
  },
  {
   "cell_type": "code",
   "execution_count": 7,
   "metadata": {},
   "outputs": [],
   "source": [
    "n_lag = 14\n",
    "\n",
    "train_data_gen = TimeseriesGenerator(train, train, length=n_lag, sampling_rate=1, stride=1, batch_size = 5)\n",
    "valid_data_gen = TimeseriesGenerator(train, train, length=n_lag, sampling_rate=1, stride=1, batch_size = 1)\n",
    "test_data_gen = TimeseriesGenerator(test, test, length=n_lag, sampling_rate=1, stride=1, batch_size = 1)"
   ]
  },
  {
   "cell_type": "code",
   "execution_count": 8,
   "metadata": {},
   "outputs": [
    {
     "name": "stdout",
     "output_type": "stream",
     "text": [
      "WARNING:tensorflow:From C:\\Users\\dell\\Anaconda3\\lib\\site-packages\\tensorflow\\python\\framework\\op_def_library.py:263: colocate_with (from tensorflow.python.framework.ops) is deprecated and will be removed in a future version.\n",
      "Instructions for updating:\n",
      "Colocations handled automatically by placer.\n",
      "WARNING:tensorflow:From C:\\Users\\dell\\Anaconda3\\lib\\site-packages\\tensorflow\\python\\ops\\math_ops.py:3066: to_int32 (from tensorflow.python.ops.math_ops) is deprecated and will be removed in a future version.\n",
      "Instructions for updating:\n",
      "Use tf.cast instead.\n"
     ]
    },
    {
     "data": {
      "image/png": "[encoded data removed]",
      "text/plain": [
       "<Figure size 720x432 with 1 Axes>"
      ]
     },
     "metadata": {},
     "output_type": "display_data"
    },
    {
     "name": "stdout",
     "output_type": "stream",
     "text": [
      "Minimum validation loss of 0.03980812701288106 reached at epoch 25\n"
     ]
    }
   ],
   "source": [
    "simple_rnn = Sequential()\n",
    "simple_rnn.add(SimpleRNN(4, input_shape=(n_lag, 1)))\n",
    "simple_rnn.add(Dense(1))\n",
    "simple_rnn.compile(loss='mae', optimizer=RMSprop())\n",
    "\n",
    "checkpointer = ModelCheckpoint(filepath='simple_rnn_weights.hdf5', verbose=0, save_best_only=True)\n",
    "earlystopper = EarlyStopping(monitor='val_loss', patience=10, verbose=0)\n",
    "with open(\"simple_rnn.json\", \"w\") as m:\n",
    "    m.write(simple_rnn.to_json())\n",
    "\n",
    "simple_rnn_history = simple_rnn.fit_generator(train_data_gen, epochs=100, validation_data=valid_data_gen, verbose=0\n",
    "                                              , callbacks=[checkpointer, earlystopper])\n",
    "plot_loss(simple_rnn_history, 'SimpleRNN - Train & Validation Loss')"
   ]
  },
  {
   "cell_type": "code",
   "execution_count": 9,
   "metadata": {},
   "outputs": [
    {
     "data": {
      "image/png": "[encoded data removed]",
      "text/plain": [
       "<Figure size 720x432 with 1 Axes>"
      ]
     },
     "metadata": {},
     "output_type": "display_data"
    },
    {
     "name": "stdout",
     "output_type": "stream",
     "text": [
      "Minimum validation loss of 0.039673674624514786 reached at epoch 89\n"
     ]
    }
   ],
   "source": [
    "simple_lstm = Sequential()\n",
    "simple_lstm.add(LSTM(4, input_shape=(n_lag, 1)))\n",
    "simple_lstm.add(Dense(1))\n",
    "simple_lstm.compile(loss='mae', optimizer=RMSprop())\n",
    "\n",
    "checkpointer = ModelCheckpoint(filepath='simple_lstm_weights.hdf5', verbose=0, save_best_only=True)\n",
    "earlystopper = EarlyStopping(monitor='val_loss', patience=10, verbose=0)\n",
    "with open(\"simple_lstm.json\", \"w\") as m:\n",
    "    m.write(simple_lstm.to_json())\n",
    "\n",
    "simple_lstm_history = simple_lstm.fit_generator(train_data_gen, epochs=100, validation_data=valid_data_gen, verbose=0\n",
    "                                                , callbacks=[checkpointer, earlystopper])\n",
    "plot_loss(simple_lstm_history, 'Simple LSTM - Train & Validation Loss')"
   ]
  },
  {
   "cell_type": "code",
   "execution_count": 10,
   "metadata": {},
   "outputs": [
    {
     "name": "stdout",
     "output_type": "stream",
     "text": [
      "Loss on test data for simple_rnn : 0.01584779350299314\n",
      "Loss on test data for simple_lstm : 0.01554339438672854\n"
     ]
    }
   ],
   "source": [
    "def eval_best_model(model):\n",
    "    # Load model architecture from JSON\n",
    "    model_architecture = open(model+'.json', 'r')\n",
    "    best_model = model_from_json(model_architecture.read())\n",
    "    model_architecture.close()\n",
    "    # Load best model's weights\n",
    "    best_model.load_weights(model+'_weights.hdf5')\n",
    "    # Compile the best model\n",
    "    best_model.compile(loss='mae', optimizer=RMSprop())\n",
    "    # Evaluate on test data\n",
    "    perf_best_model = best_model.evaluate_generator(test_data_gen)\n",
    "    print('Loss on test data for {} : {}'.format(model, perf_best_model))\n",
    "\n",
    "eval_best_model('simple_rnn')\n",
    "eval_best_model('simple_lstm')"
   ]
  },
  {
   "cell_type": "code",
   "execution_count": null,
   "metadata": {},
   "outputs": [],
   "source": []
  }
 ],
 "metadata": {
  "kernelspec": {
   "display_name": "Python 3",
   "language": "python",
   "name": "python3"
  },
  "language_info": {
   "codemirror_mode": {
    "name": "ipython",
    "version": 3
   },
   "file_extension": ".py",
   "mimetype": "text/x-python",
   "name": "python",
   "nbconvert_exporter": "python",
   "pygments_lexer": "ipython3",
   "version": "3.6.5"
  }
 },
 "nbformat": 4,
 "nbformat_minor": 2
}
